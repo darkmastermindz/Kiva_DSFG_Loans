{
 "cells": [
  {
   "cell_type": "markdown",
   "metadata": {},
   "source": [
    "# Kiva Data Science For Good Competitition\n",
    "Prepared by Hansel Wei"
   ]
  },
  {
   "cell_type": "markdown",
   "metadata": {},
   "source": [
    "# Setup"
   ]
  },
  {
   "cell_type": "code",
   "execution_count": null,
   "metadata": {
    "scrolled": true
   },
   "outputs": [],
   "source": [
    "# Check/Install Missing Package Requirements\n",
    "!pip install pandas numpy seaborn sklearn tensorflow"
   ]
  },
  {
   "cell_type": "code",
   "execution_count": 60,
   "metadata": {},
   "outputs": [],
   "source": [
    "import os\n",
    "import pandas as pd\n",
    "from six.moves import urllib\n",
    "\n",
    "DOWNLOAD_ROOT = 'https://s3.amazonaws.com/kiva-datasets/' \n",
    "SAVE_PATH = './datasets/'\n",
    "FILE_NAMES = ('kiva_loans.csv', \n",
    "              'kiva_mpi_region_locations.csv', \n",
    "              'loan_theme_ids.csv', \n",
    "              'loan_themes_by_region.csv')\n",
    "\n",
    "def fetch_datasets(download_root=DOWNLOAD_ROOT, file_names=FILE_NAMES, save_path=SAVE_PATH):\n",
    "    download_urls = [download_root + url for url in file_names]\n",
    "    \n",
    "    if not os.path.isdir(save_path):\n",
    "        os.makedirs(save_path)\n",
    "        \n",
    "    for i in range(len(file_names)):\n",
    "        print(\"get (%d/%d): %s\" % (i+1, len(file_names), download_urls[i]))\n",
    "        if not os.path.isdir(save_path+file_names[i]):\n",
    "            urllib.request.urlretrieve(download_urls[i], save_path+file_names[i])\n",
    "            print(\"saved (%d/%d): %s\" % (i+1, len(file_names), download_urls[i]))\n",
    "        else:\n",
    "            print(\"File name exists! Not updated. (%d/%d): %s\" % (i+1, len(file_names), download_urls[i]))\n",
    "            \n",
    "def update_datasets(download_root=DOWNLOAD_ROOT, file_names=FILE_NAMES, save_path=SAVE_PATH):\n",
    "    download_urls = [download_root + url for url in file_names]\n",
    "    \n",
    "    if not os.path.isdir(save_path):\n",
    "        os.makedirs(save_path)\n",
    "        \n",
    "    for i in range(len(data)):\n",
    "        print(\"get (%d/%d): %s\" % (i+1, len(file_names), download_urls[i]))\n",
    "        print(\"saved (%d/%d): %s\" % (i+1, len(file_names), download_urls[i]))\n",
    "        urllib.request.urlretrieve(download_urls[i], save_path+file_names[i])\n",
    "\n",
    "def load_kiva_datasets(save_path=SAVE_PATH, file_names=FILE_NAMES):\n",
    "    data = []\n",
    "    for filename in file_names:\n",
    "        df = pd.read_csv(save_path+filename)\n",
    "        data.append(df)\n",
    "        print('loaded: %s' % filename)\n",
    "    return tuple(data)\n",
    "\n",
    "def print_labels(df):\n",
    "    for index, label in enumerate(df.columns): print(index, label)\n",
    "\n",
    "# To plot pretty figures\n",
    "%matplotlib inline\n",
    "import matplotlib\n",
    "import matplotlib.pyplot as plt\n",
    "plt.rcParams['axes.labelsize'] = 14\n",
    "plt.rcParams['xtick.labelsize'] = 12\n",
    "plt.rcParams['ytick.labelsize'] = 12"
   ]
  },
  {
   "cell_type": "markdown",
   "metadata": {},
   "source": [
    "# Get the Data"
   ]
  },
  {
   "cell_type": "code",
   "execution_count": 21,
   "metadata": {},
   "outputs": [
    {
     "name": "stdout",
     "output_type": "stream",
     "text": [
      "get (1/4): https://s3.amazonaws.com/kiva-datasets/kiva_loans.csv\n",
      "saved (1/4): https://s3.amazonaws.com/kiva-datasets/kiva_loans.csv\n",
      "get (2/4): https://s3.amazonaws.com/kiva-datasets/kiva_mpi_region_locations.csv\n",
      "saved (2/4): https://s3.amazonaws.com/kiva-datasets/kiva_mpi_region_locations.csv\n",
      "get (3/4): https://s3.amazonaws.com/kiva-datasets/loan_theme_ids.csv\n",
      "saved (3/4): https://s3.amazonaws.com/kiva-datasets/loan_theme_ids.csv\n",
      "get (4/4): https://s3.amazonaws.com/kiva-datasets/loan_themes_by_region.csv\n",
      "saved (4/4): https://s3.amazonaws.com/kiva-datasets/loan_themes_by_region.csv\n"
     ]
    }
   ],
   "source": [
    "fetch_datasets()"
   ]
  },
  {
   "cell_type": "code",
   "execution_count": 13,
   "metadata": {},
   "outputs": [
    {
     "name": "stdout",
     "output_type": "stream",
     "text": [
      "loaded: kiva_loans.csv\n",
      "loaded: kiva_mpi_region_locations.csv\n",
      "loaded: loan_theme_ids.csv\n",
      "loaded: loan_themes_by_region.csv\n"
     ]
    }
   ],
   "source": [
    "loans, mpi, theme, region = load_kiva_datasets()"
   ]
  },
  {
   "cell_type": "markdown",
   "metadata": {},
   "source": [
    "# Exploring the Data"
   ]
  },
  {
   "cell_type": "markdown",
   "metadata": {},
   "source": [
    "#### kiva_loans.csv"
   ]
  },
  {
   "cell_type": "code",
   "execution_count": 72,
   "metadata": {},
   "outputs": [
    {
     "data": {
      "text/html": [
       "<div>\n",
       "<style>\n",
       "    .dataframe thead tr:only-child th {\n",
       "        text-align: right;\n",
       "    }\n",
       "\n",
       "    .dataframe thead th {\n",
       "        text-align: left;\n",
       "    }\n",
       "\n",
       "    .dataframe tbody tr th {\n",
       "        vertical-align: top;\n",
       "    }\n",
       "</style>\n",
       "<table border=\"1\" class=\"dataframe\">\n",
       "  <thead>\n",
       "    <tr style=\"text-align: right;\">\n",
       "      <th></th>\n",
       "      <th>id</th>\n",
       "      <th>funded_amount</th>\n",
       "      <th>loan_amount</th>\n",
       "      <th>activity</th>\n",
       "      <th>sector</th>\n",
       "      <th>use</th>\n",
       "      <th>country_code</th>\n",
       "      <th>country</th>\n",
       "      <th>region</th>\n",
       "      <th>currency</th>\n",
       "      <th>partner_id</th>\n",
       "      <th>posted_time</th>\n",
       "      <th>disbursed_time</th>\n",
       "      <th>funded_time</th>\n",
       "      <th>term_in_months</th>\n",
       "      <th>lender_count</th>\n",
       "      <th>tags</th>\n",
       "      <th>borrower_genders</th>\n",
       "      <th>repayment_interval</th>\n",
       "      <th>date</th>\n",
       "    </tr>\n",
       "  </thead>\n",
       "  <tbody>\n",
       "    <tr>\n",
       "      <th>0</th>\n",
       "      <td>653051</td>\n",
       "      <td>300.0</td>\n",
       "      <td>300.0</td>\n",
       "      <td>Fruits &amp; Vegetables</td>\n",
       "      <td>Food</td>\n",
       "      <td>To buy seasonal, fresh fruits to sell.</td>\n",
       "      <td>PK</td>\n",
       "      <td>Pakistan</td>\n",
       "      <td>Lahore</td>\n",
       "      <td>PKR</td>\n",
       "      <td>247.0</td>\n",
       "      <td>2014-01-01 06:12:39+00:00</td>\n",
       "      <td>2013-12-17 08:00:00+00:00</td>\n",
       "      <td>2014-01-02 10:06:32+00:00</td>\n",
       "      <td>12.0</td>\n",
       "      <td>12</td>\n",
       "      <td>NaN</td>\n",
       "      <td>female</td>\n",
       "      <td>irregular</td>\n",
       "      <td>2014-01-01</td>\n",
       "    </tr>\n",
       "    <tr>\n",
       "      <th>1</th>\n",
       "      <td>653053</td>\n",
       "      <td>575.0</td>\n",
       "      <td>575.0</td>\n",
       "      <td>Rickshaw</td>\n",
       "      <td>Transportation</td>\n",
       "      <td>to repair and maintain the auto rickshaw used ...</td>\n",
       "      <td>PK</td>\n",
       "      <td>Pakistan</td>\n",
       "      <td>Lahore</td>\n",
       "      <td>PKR</td>\n",
       "      <td>247.0</td>\n",
       "      <td>2014-01-01 06:51:08+00:00</td>\n",
       "      <td>2013-12-17 08:00:00+00:00</td>\n",
       "      <td>2014-01-02 09:17:23+00:00</td>\n",
       "      <td>11.0</td>\n",
       "      <td>14</td>\n",
       "      <td>NaN</td>\n",
       "      <td>female, female</td>\n",
       "      <td>irregular</td>\n",
       "      <td>2014-01-01</td>\n",
       "    </tr>\n",
       "    <tr>\n",
       "      <th>2</th>\n",
       "      <td>653068</td>\n",
       "      <td>150.0</td>\n",
       "      <td>150.0</td>\n",
       "      <td>Transportation</td>\n",
       "      <td>Transportation</td>\n",
       "      <td>To repair their old cycle-van and buy another ...</td>\n",
       "      <td>IN</td>\n",
       "      <td>India</td>\n",
       "      <td>Maynaguri</td>\n",
       "      <td>INR</td>\n",
       "      <td>334.0</td>\n",
       "      <td>2014-01-01 09:58:07+00:00</td>\n",
       "      <td>2013-12-17 08:00:00+00:00</td>\n",
       "      <td>2014-01-01 16:01:36+00:00</td>\n",
       "      <td>43.0</td>\n",
       "      <td>6</td>\n",
       "      <td>user_favorite, user_favorite</td>\n",
       "      <td>female</td>\n",
       "      <td>bullet</td>\n",
       "      <td>2014-01-01</td>\n",
       "    </tr>\n",
       "  </tbody>\n",
       "</table>\n",
       "</div>"
      ],
      "text/plain": [
       "       id  funded_amount  loan_amount             activity          sector  \\\n",
       "0  653051          300.0        300.0  Fruits & Vegetables            Food   \n",
       "1  653053          575.0        575.0             Rickshaw  Transportation   \n",
       "2  653068          150.0        150.0       Transportation  Transportation   \n",
       "\n",
       "                                                 use country_code   country  \\\n",
       "0            To buy seasonal, fresh fruits to sell.            PK  Pakistan   \n",
       "1  to repair and maintain the auto rickshaw used ...           PK  Pakistan   \n",
       "2  To repair their old cycle-van and buy another ...           IN     India   \n",
       "\n",
       "      region currency  partner_id                posted_time  \\\n",
       "0     Lahore      PKR       247.0  2014-01-01 06:12:39+00:00   \n",
       "1     Lahore      PKR       247.0  2014-01-01 06:51:08+00:00   \n",
       "2  Maynaguri      INR       334.0  2014-01-01 09:58:07+00:00   \n",
       "\n",
       "              disbursed_time                funded_time  term_in_months  \\\n",
       "0  2013-12-17 08:00:00+00:00  2014-01-02 10:06:32+00:00            12.0   \n",
       "1  2013-12-17 08:00:00+00:00  2014-01-02 09:17:23+00:00            11.0   \n",
       "2  2013-12-17 08:00:00+00:00  2014-01-01 16:01:36+00:00            43.0   \n",
       "\n",
       "   lender_count                          tags borrower_genders  \\\n",
       "0            12                           NaN           female   \n",
       "1            14                           NaN   female, female   \n",
       "2             6  user_favorite, user_favorite           female   \n",
       "\n",
       "  repayment_interval        date  \n",
       "0          irregular  2014-01-01  \n",
       "1          irregular  2014-01-01  \n",
       "2             bullet  2014-01-01  "
      ]
     },
     "execution_count": 72,
     "metadata": {},
     "output_type": "execute_result"
    }
   ],
   "source": [
    "loans.head(3)"
   ]
  },
  {
   "cell_type": "code",
   "execution_count": 65,
   "metadata": {},
   "outputs": [
    {
     "name": "stdout",
     "output_type": "stream",
     "text": [
      "0 id\n",
      "1 funded_amount\n",
      "2 loan_amount\n",
      "3 activity\n",
      "4 sector\n",
      "5 use\n",
      "6 country_code\n",
      "7 country\n",
      "8 region\n",
      "9 currency\n",
      "10 partner_id\n",
      "11 posted_time\n",
      "12 disbursed_time\n",
      "13 funded_time\n",
      "14 term_in_months\n",
      "15 lender_count\n",
      "16 tags\n",
      "17 borrower_genders\n",
      "18 repayment_interval\n",
      "19 date\n"
     ]
    }
   ],
   "source": [
    "print_labels(loans)"
   ]
  },
  {
   "cell_type": "code",
   "execution_count": 71,
   "metadata": {},
   "outputs": [
    {
     "data": {
      "text/html": [
       "<div>\n",
       "<style>\n",
       "    .dataframe thead tr:only-child th {\n",
       "        text-align: right;\n",
       "    }\n",
       "\n",
       "    .dataframe thead th {\n",
       "        text-align: left;\n",
       "    }\n",
       "\n",
       "    .dataframe tbody tr th {\n",
       "        vertical-align: top;\n",
       "    }\n",
       "</style>\n",
       "<table border=\"1\" class=\"dataframe\">\n",
       "  <thead>\n",
       "    <tr style=\"text-align: right;\">\n",
       "      <th></th>\n",
       "      <th>LocationName</th>\n",
       "      <th>ISO</th>\n",
       "      <th>country</th>\n",
       "      <th>region</th>\n",
       "      <th>world_region</th>\n",
       "      <th>MPI</th>\n",
       "      <th>geo</th>\n",
       "      <th>lat</th>\n",
       "      <th>lon</th>\n",
       "    </tr>\n",
       "  </thead>\n",
       "  <tbody>\n",
       "    <tr>\n",
       "      <th>0</th>\n",
       "      <td>Badakhshan, Afghanistan</td>\n",
       "      <td>AFG</td>\n",
       "      <td>Afghanistan</td>\n",
       "      <td>Badakhshan</td>\n",
       "      <td>South Asia</td>\n",
       "      <td>0.387</td>\n",
       "      <td>(36.7347725, 70.81199529999999)</td>\n",
       "      <td>36.734772</td>\n",
       "      <td>70.811995</td>\n",
       "    </tr>\n",
       "    <tr>\n",
       "      <th>1</th>\n",
       "      <td>Badghis, Afghanistan</td>\n",
       "      <td>AFG</td>\n",
       "      <td>Afghanistan</td>\n",
       "      <td>Badghis</td>\n",
       "      <td>South Asia</td>\n",
       "      <td>0.466</td>\n",
       "      <td>(35.1671339, 63.7695384)</td>\n",
       "      <td>35.167134</td>\n",
       "      <td>63.769538</td>\n",
       "    </tr>\n",
       "    <tr>\n",
       "      <th>2</th>\n",
       "      <td>Baghlan, Afghanistan</td>\n",
       "      <td>AFG</td>\n",
       "      <td>Afghanistan</td>\n",
       "      <td>Baghlan</td>\n",
       "      <td>South Asia</td>\n",
       "      <td>0.300</td>\n",
       "      <td>(35.8042947, 69.2877535)</td>\n",
       "      <td>35.804295</td>\n",
       "      <td>69.287754</td>\n",
       "    </tr>\n",
       "  </tbody>\n",
       "</table>\n",
       "</div>"
      ],
      "text/plain": [
       "              LocationName  ISO      country      region world_region    MPI  \\\n",
       "0  Badakhshan, Afghanistan  AFG  Afghanistan  Badakhshan   South Asia  0.387   \n",
       "1     Badghis, Afghanistan  AFG  Afghanistan     Badghis   South Asia  0.466   \n",
       "2     Baghlan, Afghanistan  AFG  Afghanistan     Baghlan   South Asia  0.300   \n",
       "\n",
       "                               geo        lat        lon  \n",
       "0  (36.7347725, 70.81199529999999)  36.734772  70.811995  \n",
       "1         (35.1671339, 63.7695384)  35.167134  63.769538  \n",
       "2         (35.8042947, 69.2877535)  35.804295  69.287754  "
      ]
     },
     "execution_count": 71,
     "metadata": {},
     "output_type": "execute_result"
    }
   ],
   "source": [
    "mpi.head(3)"
   ]
  },
  {
   "cell_type": "code",
   "execution_count": 66,
   "metadata": {},
   "outputs": [
    {
     "name": "stdout",
     "output_type": "stream",
     "text": [
      "0 LocationName\n",
      "1 ISO\n",
      "2 country\n",
      "3 region\n",
      "4 world_region\n",
      "5 MPI\n",
      "6 geo\n",
      "7 lat\n",
      "8 lon\n"
     ]
    }
   ],
   "source": [
    "print_labels(mpi)"
   ]
  },
  {
   "cell_type": "code",
   "execution_count": 73,
   "metadata": {},
   "outputs": [
    {
     "name": "stdout",
     "output_type": "stream",
     "text": [
      "0 id\n",
      "1 Loan Theme ID\n",
      "2 Loan Theme Type\n",
      "3 Partner ID\n"
     ]
    }
   ],
   "source": [
    "print_labels(theme)"
   ]
  },
  {
   "cell_type": "code",
   "execution_count": 75,
   "metadata": {},
   "outputs": [
    {
     "data": {
      "text/html": [
       "<div>\n",
       "<style>\n",
       "    .dataframe thead tr:only-child th {\n",
       "        text-align: right;\n",
       "    }\n",
       "\n",
       "    .dataframe thead th {\n",
       "        text-align: left;\n",
       "    }\n",
       "\n",
       "    .dataframe tbody tr th {\n",
       "        vertical-align: top;\n",
       "    }\n",
       "</style>\n",
       "<table border=\"1\" class=\"dataframe\">\n",
       "  <thead>\n",
       "    <tr style=\"text-align: right;\">\n",
       "      <th></th>\n",
       "      <th>id</th>\n",
       "      <th>Loan Theme ID</th>\n",
       "      <th>Loan Theme Type</th>\n",
       "      <th>Partner ID</th>\n",
       "    </tr>\n",
       "  </thead>\n",
       "  <tbody>\n",
       "    <tr>\n",
       "      <th>0</th>\n",
       "      <td>638631</td>\n",
       "      <td>a1050000000skGl</td>\n",
       "      <td>General</td>\n",
       "      <td>151.0</td>\n",
       "    </tr>\n",
       "    <tr>\n",
       "      <th>1</th>\n",
       "      <td>640322</td>\n",
       "      <td>a1050000000skGl</td>\n",
       "      <td>General</td>\n",
       "      <td>151.0</td>\n",
       "    </tr>\n",
       "    <tr>\n",
       "      <th>2</th>\n",
       "      <td>641006</td>\n",
       "      <td>a1050000002X1ij</td>\n",
       "      <td>Higher Education</td>\n",
       "      <td>160.0</td>\n",
       "    </tr>\n",
       "  </tbody>\n",
       "</table>\n",
       "</div>"
      ],
      "text/plain": [
       "       id    Loan Theme ID   Loan Theme Type  Partner ID\n",
       "0  638631  a1050000000skGl           General       151.0\n",
       "1  640322  a1050000000skGl           General       151.0\n",
       "2  641006  a1050000002X1ij  Higher Education       160.0"
      ]
     },
     "execution_count": 75,
     "metadata": {},
     "output_type": "execute_result"
    }
   ],
   "source": [
    "theme.head(3)"
   ]
  },
  {
   "cell_type": "code",
   "execution_count": 74,
   "metadata": {},
   "outputs": [
    {
     "name": "stdout",
     "output_type": "stream",
     "text": [
      "0 Partner ID\n",
      "1 Field Partner Name\n",
      "2 sector\n",
      "3 Loan Theme ID\n",
      "4 Loan Theme Type\n",
      "5 country\n",
      "6 forkiva\n",
      "7 region\n",
      "8 geocode_old\n",
      "9 ISO\n",
      "10 number\n",
      "11 amount\n",
      "12 LocationName\n",
      "13 geocode\n",
      "14 names\n",
      "15 geo\n",
      "16 lat\n",
      "17 lon\n",
      "18 mpi_region\n",
      "19 mpi_geo\n",
      "20 rural_pct\n"
     ]
    }
   ],
   "source": [
    "print_labels(region)"
   ]
  },
  {
   "cell_type": "code",
   "execution_count": 76,
   "metadata": {},
   "outputs": [
    {
     "data": {
      "text/html": [
       "<div>\n",
       "<style>\n",
       "    .dataframe thead tr:only-child th {\n",
       "        text-align: right;\n",
       "    }\n",
       "\n",
       "    .dataframe thead th {\n",
       "        text-align: left;\n",
       "    }\n",
       "\n",
       "    .dataframe tbody tr th {\n",
       "        vertical-align: top;\n",
       "    }\n",
       "</style>\n",
       "<table border=\"1\" class=\"dataframe\">\n",
       "  <thead>\n",
       "    <tr style=\"text-align: right;\">\n",
       "      <th></th>\n",
       "      <th>Partner ID</th>\n",
       "      <th>Field Partner Name</th>\n",
       "      <th>sector</th>\n",
       "      <th>Loan Theme ID</th>\n",
       "      <th>Loan Theme Type</th>\n",
       "      <th>country</th>\n",
       "      <th>forkiva</th>\n",
       "      <th>region</th>\n",
       "      <th>geocode_old</th>\n",
       "      <th>ISO</th>\n",
       "      <th>...</th>\n",
       "      <th>amount</th>\n",
       "      <th>LocationName</th>\n",
       "      <th>geocode</th>\n",
       "      <th>names</th>\n",
       "      <th>geo</th>\n",
       "      <th>lat</th>\n",
       "      <th>lon</th>\n",
       "      <th>mpi_region</th>\n",
       "      <th>mpi_geo</th>\n",
       "      <th>rural_pct</th>\n",
       "    </tr>\n",
       "  </thead>\n",
       "  <tbody>\n",
       "    <tr>\n",
       "      <th>0</th>\n",
       "      <td>9</td>\n",
       "      <td>KREDIT Microfinance Institution</td>\n",
       "      <td>General Financial Inclusion</td>\n",
       "      <td>a1050000000slfi</td>\n",
       "      <td>Higher Education</td>\n",
       "      <td>Cambodia</td>\n",
       "      <td>No</td>\n",
       "      <td>Banteay Meanchey</td>\n",
       "      <td>(13.75, 103.0)</td>\n",
       "      <td>KHM</td>\n",
       "      <td>...</td>\n",
       "      <td>450</td>\n",
       "      <td>Banteay Meanchey, Cambodia</td>\n",
       "      <td>[(13.6672596, 102.8975098)]</td>\n",
       "      <td>Banteay Meanchey Province; Cambodia</td>\n",
       "      <td>(13.6672596, 102.8975098)</td>\n",
       "      <td>13.667260</td>\n",
       "      <td>102.897510</td>\n",
       "      <td>Banteay Mean Chey, Cambodia</td>\n",
       "      <td>(13.6672596, 102.8975098)</td>\n",
       "      <td>90.0</td>\n",
       "    </tr>\n",
       "    <tr>\n",
       "      <th>1</th>\n",
       "      <td>9</td>\n",
       "      <td>KREDIT Microfinance Institution</td>\n",
       "      <td>General Financial Inclusion</td>\n",
       "      <td>a10500000068jPe</td>\n",
       "      <td>Vulnerable Populations</td>\n",
       "      <td>Cambodia</td>\n",
       "      <td>No</td>\n",
       "      <td>Battambang Province</td>\n",
       "      <td>NaN</td>\n",
       "      <td>KHM</td>\n",
       "      <td>...</td>\n",
       "      <td>20275</td>\n",
       "      <td>Battambang Province, Cambodia</td>\n",
       "      <td>[(13.0286971, 102.989615)]</td>\n",
       "      <td>Battambang Province; Cambodia</td>\n",
       "      <td>(13.0286971, 102.989615)</td>\n",
       "      <td>13.028697</td>\n",
       "      <td>102.989615</td>\n",
       "      <td>Banteay Mean Chey, Cambodia</td>\n",
       "      <td>(13.6672596, 102.8975098)</td>\n",
       "      <td>90.0</td>\n",
       "    </tr>\n",
       "    <tr>\n",
       "      <th>2</th>\n",
       "      <td>9</td>\n",
       "      <td>KREDIT Microfinance Institution</td>\n",
       "      <td>General Financial Inclusion</td>\n",
       "      <td>a1050000000slfi</td>\n",
       "      <td>Higher Education</td>\n",
       "      <td>Cambodia</td>\n",
       "      <td>No</td>\n",
       "      <td>Battambang Province</td>\n",
       "      <td>NaN</td>\n",
       "      <td>KHM</td>\n",
       "      <td>...</td>\n",
       "      <td>9150</td>\n",
       "      <td>Battambang Province, Cambodia</td>\n",
       "      <td>[(13.0286971, 102.989615)]</td>\n",
       "      <td>Battambang Province; Cambodia</td>\n",
       "      <td>(13.0286971, 102.989615)</td>\n",
       "      <td>13.028697</td>\n",
       "      <td>102.989615</td>\n",
       "      <td>Banteay Mean Chey, Cambodia</td>\n",
       "      <td>(13.6672596, 102.8975098)</td>\n",
       "      <td>90.0</td>\n",
       "    </tr>\n",
       "  </tbody>\n",
       "</table>\n",
       "<p>3 rows × 21 columns</p>\n",
       "</div>"
      ],
      "text/plain": [
       "   Partner ID               Field Partner Name                       sector  \\\n",
       "0           9  KREDIT Microfinance Institution  General Financial Inclusion   \n",
       "1           9  KREDIT Microfinance Institution  General Financial Inclusion   \n",
       "2           9  KREDIT Microfinance Institution  General Financial Inclusion   \n",
       "\n",
       "     Loan Theme ID         Loan Theme Type   country forkiva  \\\n",
       "0  a1050000000slfi        Higher Education  Cambodia      No   \n",
       "1  a10500000068jPe  Vulnerable Populations  Cambodia      No   \n",
       "2  a1050000000slfi        Higher Education  Cambodia      No   \n",
       "\n",
       "                region     geocode_old  ISO    ...     amount  \\\n",
       "0     Banteay Meanchey  (13.75, 103.0)  KHM    ...        450   \n",
       "1  Battambang Province             NaN  KHM    ...      20275   \n",
       "2  Battambang Province             NaN  KHM    ...       9150   \n",
       "\n",
       "                    LocationName                      geocode  \\\n",
       "0     Banteay Meanchey, Cambodia  [(13.6672596, 102.8975098)]   \n",
       "1  Battambang Province, Cambodia   [(13.0286971, 102.989615)]   \n",
       "2  Battambang Province, Cambodia   [(13.0286971, 102.989615)]   \n",
       "\n",
       "                                 names                        geo        lat  \\\n",
       "0  Banteay Meanchey Province; Cambodia  (13.6672596, 102.8975098)  13.667260   \n",
       "1        Battambang Province; Cambodia   (13.0286971, 102.989615)  13.028697   \n",
       "2        Battambang Province; Cambodia   (13.0286971, 102.989615)  13.028697   \n",
       "\n",
       "          lon                   mpi_region                    mpi_geo  \\\n",
       "0  102.897510  Banteay Mean Chey, Cambodia  (13.6672596, 102.8975098)   \n",
       "1  102.989615  Banteay Mean Chey, Cambodia  (13.6672596, 102.8975098)   \n",
       "2  102.989615  Banteay Mean Chey, Cambodia  (13.6672596, 102.8975098)   \n",
       "\n",
       "  rural_pct  \n",
       "0      90.0  \n",
       "1      90.0  \n",
       "2      90.0  \n",
       "\n",
       "[3 rows x 21 columns]"
      ]
     },
     "execution_count": 76,
     "metadata": {},
     "output_type": "execute_result"
    }
   ],
   "source": [
    "region.head(3)"
   ]
  },
  {
   "cell_type": "code",
   "execution_count": null,
   "metadata": {},
   "outputs": [],
   "source": []
  },
  {
   "cell_type": "code",
   "execution_count": null,
   "metadata": {},
   "outputs": [],
   "source": []
  },
  {
   "cell_type": "code",
   "execution_count": null,
   "metadata": {},
   "outputs": [],
   "source": []
  },
  {
   "cell_type": "code",
   "execution_count": null,
   "metadata": {},
   "outputs": [],
   "source": []
  },
  {
   "cell_type": "code",
   "execution_count": null,
   "metadata": {},
   "outputs": [],
   "source": []
  },
  {
   "cell_type": "code",
   "execution_count": null,
   "metadata": {
    "collapsed": true
   },
   "outputs": [],
   "source": []
  },
  {
   "cell_type": "code",
   "execution_count": null,
   "metadata": {
    "collapsed": true
   },
   "outputs": [],
   "source": []
  },
  {
   "cell_type": "code",
   "execution_count": null,
   "metadata": {
    "collapsed": true
   },
   "outputs": [],
   "source": []
  }
 ],
 "metadata": {
  "kernelspec": {
   "display_name": "Python 3",
   "language": "python",
   "name": "python3"
  },
  "language_info": {
   "codemirror_mode": {
    "name": "ipython",
    "version": 3
   },
   "file_extension": ".py",
   "mimetype": "text/x-python",
   "name": "python",
   "nbconvert_exporter": "python",
   "pygments_lexer": "ipython3",
   "version": "3.6.4"
  }
 },
 "nbformat": 4,
 "nbformat_minor": 2
}
